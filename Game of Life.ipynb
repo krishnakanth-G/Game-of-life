{
 "cells": [
  {
   "cell_type": "markdown",
   "metadata": {},
   "source": [
    "<h1 align=\"center\">Game of Life</h1>"
   ]
  },
  {
   "cell_type": "code",
   "execution_count": 1,
   "metadata": {},
   "outputs": [],
   "source": [
    "import numpy as np\n",
    "import os"
   ]
  },
  {
   "cell_type": "markdown",
   "metadata": {},
   "source": [
    "### This function will read the data from a text file"
   ]
  },
  {
   "cell_type": "code",
   "execution_count": 2,
   "metadata": {},
   "outputs": [],
   "source": [
    "def readfile(filename):\n",
    "    data = []\n",
    "    file = open(filename,'r')\n",
    "    lines = file.read().splitlines()\n",
    "    for line in lines:\n",
    "        data.append(line.split())\n",
    "    data = np.array(data)\n",
    "    data = data.astype('int64')\n",
    "    file.close()\n",
    "    return data"
   ]
  },
  {
   "cell_type": "markdown",
   "metadata": {},
   "source": [
    "### This function will write the output to a text file"
   ]
  },
  {
   "cell_type": "code",
   "execution_count": 3,
   "metadata": {},
   "outputs": [],
   "source": [
    "def writefile(data):\n",
    "    file = open(\"output.txt\",\"w\")\n",
    "    content  = str(data)\n",
    "    file.write(content)\n",
    "    file.close()"
   ]
  },
  {
   "cell_type": "markdown",
   "metadata": {},
   "source": [
    "### This function will give list of neighbors position"
   ]
  },
  {
   "cell_type": "code",
   "execution_count": 4,
   "metadata": {},
   "outputs": [],
   "source": [
    "def neighbors_pos(x,y,x_shape,y_shape):\n",
    "    positions = []\n",
    "    if x+1 < x_shape:\n",
    "        if y+1 < y_shape:\n",
    "            positions.append([x+1,y+1])\n",
    "        if y < y_shape:\n",
    "            positions.append([x+1,y])\n",
    "        if y-1 >= 0 :\n",
    "            positions.append([x+1,y-1])\n",
    "    if y+1 < y_shape:\n",
    "        if x < x_shape:\n",
    "            positions.append([x,y+1])\n",
    "        if x-1 >= 0 :\n",
    "            positions.append([x-1,y+1])\n",
    "    if x-1 >= 0:\n",
    "        if y-1 >= 0:\n",
    "            positions.append([x-1,y-1])\n",
    "        if y < y_shape:\n",
    "            positions.append([x-1,y])\n",
    "    if y-1 >= 0:\n",
    "        if x < x_shape:\n",
    "            positions.append([x,y-1])\n",
    "    return positions            "
   ]
  },
  {
   "cell_type": "markdown",
   "metadata": {},
   "source": [
    "### This function will return count of alive people"
   ]
  },
  {
   "cell_type": "code",
   "execution_count": 5,
   "metadata": {},
   "outputs": [],
   "source": [
    "def alive_val(neighbors,data):\n",
    "    count = 0\n",
    "    for i in neighbors:\n",
    "        count =count+data[i[0]][i[1]]\n",
    "    return count"
   ]
  },
  {
   "cell_type": "markdown",
   "metadata": {},
   "source": [
    "### This function will find the next generation grid board"
   ]
  },
  {
   "cell_type": "code",
   "execution_count": 6,
   "metadata": {},
   "outputs": [],
   "source": [
    "def next_generation(data):\n",
    "    x_shape = data.shape[0]\n",
    "    y_shape = data.shape[1]\n",
    "    next_gen = np.empty([x_shape,y_shape],dtype = \"int64\")\n",
    "    for i in range(x_shape):\n",
    "        for j in range(y_shape):\n",
    "            n = neighbors_pos(i,j,x_shape,y_shape)\n",
    "            alive = alive_val(n,data)\n",
    "            if data[i][j]== 1 and alive < 2:\n",
    "                next_gen[i][j] = 0\n",
    "            if data[i][j]== 1 and alive >= 2 and alive <=3 :\n",
    "                next_gen[i][j] = 1\n",
    "            if data[i][j]== 1 and alive > 3:\n",
    "                next_gen[i][j] = 0\n",
    "            if data[i][j]== 0 and alive == 3:\n",
    "                next_gen[i][j] = 1\n",
    "            if data[i][j]== 0 and alive !=3:\n",
    "                next_gen[i][j] = 0\n",
    "    return next_gen"
   ]
  },
  {
   "cell_type": "markdown",
   "metadata": {},
   "source": [
    "### This function will combine all the pieces of game"
   ]
  },
  {
   "cell_type": "code",
   "execution_count": 7,
   "metadata": {},
   "outputs": [],
   "source": [
    "def game_of_life():\n",
    "    filename = input(\"Enter file name: \")\n",
    "    if not os.path.isfile(filename):\n",
    "        print(\"File does not exist\")\n",
    "        return\n",
    "    try:\n",
    "        no_gen = int(input(\"Enter number of generations: \"))\n",
    "    except ValueError:  \n",
    "        print(\"Number of generations must be a number\")\n",
    "        return\n",
    "    data = readfile(filename)\n",
    "    print(\"\\nNumber of Generations = \",no_gen)\n",
    "    print(\"Data :\\n\",data)\n",
    "    for i in range(no_gen):\n",
    "        data = next_generation(data)\n",
    "    writefile(data)\n",
    "    print(\"output :\\n\",data)"
   ]
  },
  {
   "cell_type": "code",
   "execution_count": 8,
   "metadata": {
    "scrolled": true
   },
   "outputs": [
    {
     "name": "stdout",
     "output_type": "stream",
     "text": [
      "Enter file name: data.txt\n",
      "Enter number of generations: 5\n",
      "\n",
      "Number of Generations =  5\n",
      "Data :\n",
      " [[0 1 0 0]\n",
      " [0 0 1 0]\n",
      " [1 1 1 1]\n",
      " [0 0 0 0]]\n",
      "output :\n",
      " [[0 0 0 0]\n",
      " [0 1 1 0]\n",
      " [1 0 0 1]\n",
      " [0 1 1 0]]\n"
     ]
    }
   ],
   "source": [
    "game_of_life()"
   ]
  },
  {
   "cell_type": "code",
   "execution_count": null,
   "metadata": {},
   "outputs": [],
   "source": []
  }
 ],
 "metadata": {
  "kernelspec": {
   "display_name": "Python 3",
   "language": "python",
   "name": "python3"
  },
  "language_info": {
   "codemirror_mode": {
    "name": "ipython",
    "version": 3
   },
   "file_extension": ".py",
   "mimetype": "text/x-python",
   "name": "python",
   "nbconvert_exporter": "python",
   "pygments_lexer": "ipython3",
   "version": "3.8.3"
  }
 },
 "nbformat": 4,
 "nbformat_minor": 4
}
